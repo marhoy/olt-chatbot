{
 "cells": [
  {
   "cell_type": "code",
   "execution_count": 10,
   "metadata": {},
   "outputs": [],
   "source": [
    "from olt_chatbot.chat_model import load_retriever_from_disk\n",
    "from olt_chatbot.llm_models import EMBEDDING_MODELS, LLM_GENERATORS\n",
    "from langchain_core.prompts import ChatPromptTemplate, MessagesPlaceholder\n"
   ]
  },
  {
   "cell_type": "code",
   "execution_count": 11,
   "metadata": {},
   "outputs": [
    {
     "name": "stderr",
     "output_type": "stream",
     "text": [
      "\u001b[32m2024-11-13 10:33:51.061\u001b[0m | \u001b[34m\u001b[1mDEBUG   \u001b[0m | \u001b[36molt_chatbot.chat_model\u001b[0m:\u001b[36mload_retriever_from_disk\u001b[0m:\u001b[36m79\u001b[0m - \u001b[34m\u001b[1mLoading retriever from disk\u001b[0m\n"
     ]
    }
   ],
   "source": [
    "retriever = load_retriever_from_disk()\n",
    "llm = LLM_GENERATORS[\"gpt-3.5\"]\n"
   ]
  },
  {
   "cell_type": "code",
   "execution_count": 12,
   "metadata": {},
   "outputs": [],
   "source": [
    "docs = retriever.invoke(\"Hva mener OLT om kosttilskudd?\")"
   ]
  },
  {
   "cell_type": "code",
   "execution_count": 13,
   "metadata": {},
   "outputs": [],
   "source": [
    "prompt = ChatPromptTemplate.from_messages(\n",
    "        [\n",
    "            (\n",
    "                \"system\",\n",
    "                (\n",
    "                    \"You are a helpful assistant working at Olympiatoppen. \"\n",
    "                    \"You answer questions in Norwegian. \"\n",
    "                ),\n",
    "            ),\n",
    "            MessagesPlaceholder(variable_name=\"chat_history\"),\n",
    "            (\n",
    "                \"human\",\n",
    "                (\n",
    "                    \"You are an assistant for question-answering tasks. \"\n",
    "                    \"Use the following pieces of retrieved context to answer the \"\n",
    "                    \"question. If you don't know the answer, just say that you \"\n",
    "                    \"don't know.\\n\\n\"\n",
    "                    \"Question: {question}\\n\\n\"\n",
    "                    \"Context: {context}\\n\\n\"\n",
    "                    \"Answer:\"\n",
    "                ),\n",
    "            ),\n",
    "        ]\n",
    "    )\n",
    "  "
   ]
  },
  {
   "cell_type": "code",
   "execution_count": null,
   "metadata": {},
   "outputs": [],
   "source": [
    "|´"
   ]
  }
 ],
 "metadata": {
  "kernelspec": {
   "display_name": "chatbot",
   "language": "python",
   "name": "python3"
  },
  "language_info": {
   "codemirror_mode": {
    "name": "ipython",
    "version": 3
   },
   "file_extension": ".py",
   "mimetype": "text/x-python",
   "name": "python",
   "nbconvert_exporter": "python",
   "pygments_lexer": "ipython3",
   "version": "3.11.9"
  }
 },
 "nbformat": 4,
 "nbformat_minor": 2
}
