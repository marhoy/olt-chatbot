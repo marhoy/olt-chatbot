{
 "cells": [
  {
   "cell_type": "code",
   "execution_count": null,
   "metadata": {},
   "outputs": [],
   "source": [
    "from olt_chatbot.chat_model import load_retriever_from_disk"
   ]
  },
  {
   "cell_type": "code",
   "execution_count": null,
   "metadata": {},
   "outputs": [
    {
     "name": "stderr",
     "output_type": "stream",
     "text": [
      "\u001b[32m2024-09-13 14:49:38.296\u001b[0m | \u001b[34m\u001b[1mDEBUG   \u001b[0m | \u001b[36molt_chatbot.chat_model\u001b[0m:\u001b[36mload_retriever_from_disk\u001b[0m:\u001b[36m58\u001b[0m - \u001b[34m\u001b[1mLoading retriever from disk\u001b[0m\n"
     ]
    }
   ],
   "source": [
    "retriever = load_retriever_from_disk()"
   ]
  },
  {
   "cell_type": "code",
   "execution_count": 3,
   "metadata": {},
   "outputs": [
    {
     "data": {
      "text/plain": [
       "[Document(page_content='Olympiatoppens dokumenter\\nOlympiatoppen har utarbeidet et holdningsdokument: Olympiatoppens holdning til kosthold og bruk av kosttilskudd blant toppidrettsutøvere tilknyttet Olympiatoppen.\\nFordi det alltid er en fare for at tilskudd inneholder komponenter som kan føre til positiv dopingtest, har Olympiatoppen utarbeidet en risikovurdering som oppdateres jevnlig: Olympiatoppens risikovurdering av kosttilskudd.\\nLes om Olympiatoppens holdning til bruk av kosttilskudd', metadata={'source': 'https://olympiatoppen.no/fagomrader/idrettspsernaering/faktaark/fakta-om-kosttilskudd-og-idrett/'}),\n",
       " Document(page_content='Olympiatoppens holdning til kosthold og bruk av kosttilskudd\\r\\n                \\n\\n\\n\\n\\n\\n\\nOlympiatoppens kosttilskuddsprogram\\n\\n\\n\\n\\n\\n\\n\\nMarkedsføring av kosttilskudd\\n\\n\\n\\n\\n\\n\\n\\nStipendutøveravtale og rapportskjema\\n\\n\\n\\n\\n\\n\\n\\n\\nDel denne artikkelen\\n\\n\\n\\n\\n\\n\\n\\n\\n\\n\\n\\n\\n\\n\\n\\n\\nOm Olympiatoppen\\nRegionale avdelinger\\nStipend og støtteordninger\\nTreningsressurser\\nTreningssenteret', metadata={'source': 'https://olympiatoppen.no/for-stipendutovere/for-stipendutovere/kosttilskudd/'}),\n",
       " Document(page_content='Olympiatoppen svarer på NRKs spekulative journalistikk knyttet til hvilke medisiner Norge hadde med i beredskap til OL og Paralympics.', metadata={'source': 'https://olympiatoppen.no/kronikker/ol-fjara-som-ble-til-fem-astmatiske-hons/'}),\n",
       " Document(page_content='Kosttilskudd\\n\\nKosttilskudd er et tema innen norsk og internasjonal toppidrett. Det er viktig at du som er stipendutøver har gjort deg kjent med Olympiatoppens retningslinjer for kosthold og restriksjoner for eventuelt bruk av kosttilskudd.', metadata={'source': 'https://olympiatoppen.no/for-stipendutovere/for-stipendutovere/kosttilskudd/'}),\n",
       " Document(page_content='Olympiatoppens kosttilskuddsprogram\\n\\nKosttilskudd i denne sammenhengen, defineres som konsentrater av næringsstoffer som kan bidra til bedre helse og restitusjon og økt prestasjon, for eksempel ved mangeltilstander.', metadata={'source': 'https://olympiatoppen.no/for-stipendutovere/for-stipendutovere/kosttilskudd/olympiatoppens-kosttilskuddsprogram/'}),\n",
       " Document(page_content='Hva mener du er viktig å vektlegge nå som vi skal øke oppmerksomheten og fokuset på paraidretten?\\n\"Jeg tror det er viktig at alle klubber og særforbund går inn for at det skal være et tilbud for alle uansett forutsetninger, og at dette blir formidlet ut slik at aktuelle utøvere får lyst til å prøve seg i idretten.\"\\nHva ville du ønsket å si til nysgjerrige utøvere eller de som ønsker å finne sin plass i idretten?', metadata={'source': 'https://olympiatoppen.no/region/nord/artikler/para-ung-ambassador---qa-med-vilde-nilsen/'}),\n",
       " Document(page_content='Vi mener det er viktig å diskutere temaet åpent og å utvikle landslagskulturer hvor man snakker sammen om utfordringene. Åpenhet må ikke å innebære at enkeltpersoner går offentlig ut om personlige helseutfordringer.', metadata={'source': 'https://olympiatoppen.no/kronikker/helse-gar-foran-prestasjon/'}),\n",
       " Document(page_content='Hva slags sykdom som foreligger, evt. videre diagnostisk utredning?\\nEr sykdommen smittsom og skal det tas spesielle blod-, bakterie- eller virusprøver?\\nHva slags behandlingstiltak som skal settes i gang?\\nSkal det settes i gang isoleringstiltak i forhold til resten av laget?\\nSkal det gis råd om treningsjustering eller konkurranseforbud?', metadata={'source': 'https://olympiatoppen.no/fagomrader/helse/fagstoff/rutiner-for-hygiene-og-smittevern/'}),\n",
       " Document(page_content='i reserve. Dette mener vi er et høyst rimelig beredskapslager.', metadata={'source': 'https://olympiatoppen.no/kronikker/ol-fjara-som-ble-til-fem-astmatiske-hons/'}),\n",
       " Document(page_content='Landslagsmodellen er under press. Mange begrenser den til spørsmål om markedsrettigheter, men den rommer mye mer, skriver toppidrettssjefen.\\n                                    \\n\\n\\n\\n\\n\\n\\n\\nHva er oppskriften på god prestasjonskultur?\\n29. aug 2023', metadata={'source': 'https://olympiatoppen.no/kronikker/'})]"
      ]
     },
     "execution_count": 3,
     "metadata": {},
     "output_type": "execute_result"
    }
   ],
   "source": [
    "retriever.invoke(\"Hva mener Olympiatoppen om kosttilskudd?\")"
   ]
  },
  {
   "cell_type": "code",
   "execution_count": 5,
   "metadata": {},
   "outputs": [
    {
     "name": "stdout",
     "output_type": "stream",
     "text": [
      "https://olympiatoppen.no/kronikker/historiene-bak-gasehudprestasjonene/\n",
      "https://olympiatoppen.no/kronikker/historiene-bak-gasehudprestasjonene/\n",
      "https://olympiatoppen.no/kronikker/norsk-toppidrett-trenger-landslagsmodellen/\n",
      "https://olympiatoppen.no/kronikker/norsk-toppidrett-trenger-landslagsmodellen/\n",
      "https://olympiatoppen.no/om-olympiatoppen/ansatte/+47 916 44 402\n",
      "https://olympiatoppen.no/for-stipendutovere/for-stipendutovere/kosttilskudd/\n",
      "https://olympiatoppen.no/for-stipendutovere/for-stipendutovere/kosttilskudd/\n",
      "https://olympiatoppen.no/fagomrader/idrettspsernaering/faktaark/fakta-om-kosttilskudd-og-idrett/\n",
      "https://olympiatoppen.no/for-stipendutovere/for-stipendutovere/kosttilskudd/olympiatoppens-kosttilskuddsprogram/\n",
      "https://olympiatoppen.no/fagomrader/idrettspsernaering/faktaark/fakta-om-kosttilskudd-og-idrett/\n"
     ]
    }
   ],
   "source": [
    "for doc in retriever.invoke(\"Hva er Olympiatoppens holdninger til kosttilskudd\"):\n",
    "    print(doc.metadata[\"source\"])"
   ]
  },
  {
   "cell_type": "code",
   "execution_count": null,
   "metadata": {},
   "outputs": [],
   "source": []
  }
 ],
 "metadata": {
  "kernelspec": {
   "display_name": "chatbot",
   "language": "python",
   "name": "python3"
  },
  "language_info": {
   "codemirror_mode": {
    "name": "ipython",
    "version": 3
   },
   "file_extension": ".py",
   "mimetype": "text/x-python",
   "name": "python",
   "nbconvert_exporter": "python",
   "pygments_lexer": "ipython3",
   "version": "3.11.9"
  }
 },
 "nbformat": 4,
 "nbformat_minor": 2
}
